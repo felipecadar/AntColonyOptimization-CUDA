{
  "nbformat": 4,
  "nbformat_minor": 0,
  "metadata": {
    "colab": {
      "name": "ColabExample.ipynb",
      "provenance": [],
      "collapsed_sections": []
    },
    "kernelspec": {
      "name": "python3",
      "display_name": "Python 3"
    },
    "accelerator": "GPU"
  },
  "cells": [
    {
      "cell_type": "code",
      "metadata": {
        "id": "LgIL_K9hr837",
        "cellView": "form"
      },
      "source": [
        "#@title\n",
        "import sys, os\n",
        "import numpy as np\n",
        "import matplotlib.pyplot as plt\n",
        "\n",
        "def read_exp(fname):\n",
        "    params = {\n",
        "        \"base\": \"\",\n",
        "        \"ants\": 0,\n",
        "        \"iter\": 0,\n",
        "        \"evap\": 0,\n",
        "        \"alpha\": 0,\n",
        "        \"beta\": 0,\n",
        "        \"n\": 0 \n",
        "    }\n",
        "\n",
        "    with open(fname, \"r\") as f:\n",
        "        lines = f.readlines()\n",
        "\n",
        "        params[\"base\"] = lines[0].strip().split(\" \")[-1].split(\"/\")[-1]\n",
        "        params[\"n\"] = int(lines[1].strip().split(\" \")[-1])\n",
        "        params[\"ants\"] = int(lines[3].strip().split(\" \")[-1])\n",
        "        params[\"iter\"] = int(lines[4].strip().split(\" \")[-1])\n",
        "        params[\"evap\"] = float(lines[5].strip().split(\" \")[-1])\n",
        "        params[\"alpha\"] = int(lines[6].strip().split(\" \")[-1])\n",
        "        params[\"beta\"] = int(lines[7].strip().split(\" \")[-1])\n",
        "\n",
        "        results = lines[8:]\n",
        "\n",
        "        doing = np.zeros(params[\"n\"])\n",
        "\n",
        "        all_solutions = np.zeros([params[\"n\"], params[\"iter\"], params[\"ants\"]])\n",
        "        mean_phero = np.zeros([params[\"n\"], params[\"iter\"]])\n",
        "\n",
        "        err = 0\n",
        "        for line in results:\n",
        "            if \"START_NODE\" in line:\n",
        "                try:\n",
        "                    p,s = line.strip().split(\":\")\n",
        "                except:\n",
        "                    err+=1\n",
        "                    continue\n",
        "        \n",
        "                    \n",
        "                _, START_NODE, _ , ITER,_ , MEAN_PHERO = p.strip().split(\" \")\n",
        "            \n",
        "                ITER = int(ITER)    \n",
        "                START_NODE = int(START_NODE)\n",
        "                MEAN_PHERO = float(MEAN_PHERO)\n",
        "\n",
        "                doing[int(START_NODE)] = 1\n",
        "\n",
        "                mean_phero[START_NODE, ITER] = MEAN_PHERO\n",
        "                all_solutions[START_NODE, ITER] = np.fromstring(s.strip(), sep=' ')\n",
        "\n",
        "        mean_phero[mean_phero == 0] = np.nan   \n",
        "        all_solutions[all_solutions == 0] = np.nan\n",
        "\n",
        "        mean_fig, mean_ax = plt.subplots(figsize=[8,4]) ## Create Figure\n",
        "\n",
        "        mean1 = np.nanmean(all_solutions, axis=2)\n",
        "        mean2 = np.nanmean(mean1, axis=0)\n",
        "        \n",
        "        max1 = np.nanmax(all_solutions, axis=2)\n",
        "        max2 = np.nanmax(max1, axis=0)\n",
        "\n",
        "        min1 = np.nanmin(all_solutions, axis=2)\n",
        "        min2 = np.nanmin(min1, axis=0)\n",
        "\n",
        "        mean_ax.plot(mean2, label=\"mean\", color=\"b\")\n",
        "        mean_ax.plot(max2, label=\"max\", color=\"g\")\n",
        "        mean_ax.plot(min2, label=\"min\", color=\"r\")\n",
        "\n",
        "        mean_ax.set_title(\"Best, Mean and Worse values for each Ant\")\n",
        "        mean_ax.set_xlabel(\"Iteration\")\n",
        "        mean_ax.set_ylabel(\"Solution Value\")\n",
        "\n",
        "        mean_ax.legend(bbox_to_anchor=(1.05, 1), loc='upper left')\n",
        "        mean_fig.tight_layout()\n",
        "        plt.show()\n",
        "\n",
        "        print(\"Best Results: \", results[-1])\n",
        "        print(\"Solution: \", results[-2])"
      ],
      "execution_count": null,
      "outputs": []
    },
    {
      "cell_type": "code",
      "metadata": {
        "id": "jWvgeKSHsJC0"
      },
      "source": [
        "%cd /content\n",
        "!git clone https://github.com/felipecadar/AntColonyOptimization-CUDA.git\n",
        "%cd AntColonyOptimization-CUDA/"
      ],
      "execution_count": null,
      "outputs": []
    },
    {
      "cell_type": "code",
      "metadata": {
        "id": "wZEzDXVqo-Jt"
      },
      "source": [
        "!git pull"
      ],
      "execution_count": null,
      "outputs": []
    },
    {
      "cell_type": "code",
      "metadata": {
        "id": "Sxytm7h5pS-3"
      },
      "source": [
        "!make; mkdir -p results;"
      ],
      "execution_count": null,
      "outputs": []
    },
    {
      "cell_type": "code",
      "metadata": {
        "id": "Ovvs1u0Dpa8m"
      },
      "source": [
        "#./ACO_red <Input> <Iter> <Ants> <Evaporation> <Alpha> <Beta> [exp_name]\n",
        "!./ACO_red bases_grafos/entrada1.txt 100 200 0.2 1 2 test"
      ],
      "execution_count": null,
      "outputs": []
    },
    {
      "cell_type": "code",
      "metadata": {
        "id": "OLEZFREW632H"
      },
      "source": [
        "!tail results/test.txt"
      ],
      "execution_count": null,
      "outputs": []
    },
    {
      "cell_type": "code",
      "metadata": {
        "id": "kXlvLlM8sH5H"
      },
      "source": [
        "read_exp(\"results/test.txt\")"
      ],
      "execution_count": null,
      "outputs": []
    },
    {
      "cell_type": "code",
      "metadata": {
        "id": "3f1jm7JPtiEs"
      },
      "source": [
        ""
      ],
      "execution_count": null,
      "outputs": []
    }
  ]
}